{
 "cells": [
  {
   "cell_type": "code",
   "execution_count": 1,
   "metadata": {},
   "outputs": [],
   "source": [
    "import numpy as np\n",
    "import pandas as pd\n",
    "import matplotlib.pyplot as plt\n",
    "import seaborn as sns\n",
    "from scipy import stats\n",
    "from scipy.stats import t, pearsonr, spearmanr, kendalltau\n",
    "from sklearn.preprocessing import StandardScaler\n",
    "from sklearn.decomposition import PCA, FactorAnalysis \n",
    "import statsmodels.api as sm\n",
    "from sklearn.linear_model import LinearRegression\n",
    "sns.set()\n",
    "\n",
    "df_lu = pd.read_csv('lu_selected.csv')\n",
    "df_nlu = pd.read_csv('nlu_selected.csv')"
   ]
  },
  {
   "cell_type": "code",
   "execution_count": 2,
   "metadata": {},
   "outputs": [],
   "source": [
    "def bootstrap_on_extracted_columns(df, column_names, num_samples=1000):\n",
    "    # Extract the specified columns into a new dataframe\n",
    "    extracted_df = df[column_names].copy()\n",
    "    \n",
    "    # Convert all values to floats in the extracted dataframe\n",
    "    extracted_df = extracted_df.astype(float)\n",
    "    \n",
    "    # Initialize an empty list to store the bootstrapped sample statistics\n",
    "    bootstrap_statistics = []\n",
    "    \n",
    "    # Get the number of rows in the extracted dataframe\n",
    "    num_rows = extracted_df.shape[0]\n",
    "    \n",
    "    # Perform bootstrapping\n",
    "    for _ in range(num_samples):\n",
    "        # Generate random indices with replacement for bootstrap sampling\n",
    "        bootstrap_indices = np.random.choice(num_rows, size=num_rows, replace=True)\n",
    "        \n",
    "        # Sample from the extracted dataframe using the bootstrap indices\n",
    "        bootstrap_sample = extracted_df.iloc[bootstrap_indices]\n",
    "        \n",
    "        # Calculate the statistic of interest (e.g., mean, median, etc.) for the bootstrap sample\n",
    "        # For demonstration purposes, let's calculate the mean of each column in the bootstrap sample\n",
    "        bootstrap_statistics.append(bootstrap_sample.mean())\n",
    "    \n",
    "    # Create a new dataframe to store the bootstrap statistics\n",
    "    bootstrap_stats_df = pd.DataFrame(bootstrap_statistics)\n",
    "    \n",
    "    return bootstrap_stats_df"
   ]
  },
  {
   "cell_type": "code",
   "execution_count": 3,
   "metadata": {},
   "outputs": [],
   "source": [
    "selected_columns = ['Plasmid Size (bp)', 'Total Paste Weight', 'Specific Yield', 'Percent Monomer', \n",
    "'Percent Dimer', 'Percent Trimer+', 'Total Thaw Time (min)', 'LAD1-1 Conductivity (mS/cm)', 'LAD2-1 Conductivity (mS/cm)', \n",
    "'LAD3-1 Conductivity (mS/cm)', 'AEX1 Load Challenge (g pDNA/L resin)', 'COA gDNA %', 'gDNA % (CTAC)', 'Final g (Delivered)']\n",
    "lu_selected = bootstrap_on_extracted_columns(df_lu, selected_columns, num_samples=1000)\n",
    "lu_selected.dropna(inplace=True)\n",
    "nlu_selected = bootstrap_on_extracted_columns(df_nlu, selected_columns, num_samples=1000)\n",
    "nlu_selected.dropna(inplace=True)"
   ]
  },
  {
   "cell_type": "code",
   "execution_count": 4,
   "metadata": {},
   "outputs": [],
   "source": [
    "def run_linear_regression(data, feature_columns):\n",
    "    all_results = []\n",
    "    \n",
    "    for target_column in feature_columns:\n",
    "        target_values = data[target_column].values\n",
    "        \n",
    "        results = []\n",
    "        for feature_column in feature_columns:\n",
    "            if feature_column != target_column:  # Avoid subtracting the same column\n",
    "                feature_values = data[[feature_column, target_column]].values\n",
    "                X = feature_values[:, 0].reshape(-1, 1)\n",
    "                y = feature_values[:, 1]\n",
    "                \n",
    "                model = LinearRegression()\n",
    "                model.fit(X, y)\n",
    "                \n",
    "                result = {\n",
    "                    'Feature': feature_column,\n",
    "                    'Target': target_column,\n",
    "                    'Coefficient': model.coef_[0],\n",
    "                    'Intercept': model.intercept_,\n",
    "                    'R-squared': model.score(X, y)\n",
    "                }\n",
    "                \n",
    "                results.append(result)\n",
    "        \n",
    "        all_results.extend(results)\n",
    "    \n",
    "    results_df = pd.DataFrame(all_results)\n",
    "    return results_df"
   ]
  },
  {
   "cell_type": "code",
   "execution_count": 5,
   "metadata": {},
   "outputs": [],
   "source": [
    "df_lu_corr = run_linear_regression(lu_selected, selected_columns)\n",
    "df_nlu_corr = run_linear_regression(nlu_selected, selected_columns)"
   ]
  },
  {
   "cell_type": "code",
   "execution_count": 6,
   "metadata": {},
   "outputs": [],
   "source": [
    "df_lu_sorted = df_lu_corr.set_index(['Target', 'Feature'])\n",
    "df_nlu_sorted = df_nlu_corr.set_index(['Target', 'Feature'])"
   ]
  },
  {
   "cell_type": "code",
   "execution_count": 7,
   "metadata": {},
   "outputs": [],
   "source": [
    "df_COA_lu = df_lu_corr[df_nlu_corr['Target'] == 'COA gDNA %']\n",
    "df_COA_lu.set_index(['Target', 'Feature'], inplace=True)\n",
    "\n",
    "df_COA_nlu = df_nlu_corr[df_nlu_corr['Target'] == 'COA gDNA %']\n",
    "df_COA_nlu.set_index(['Target', 'Feature'], inplace=True)\n",
    "\n",
    "df_COA_nlu.to_excel('results.xlsx', index=False)\n",
    "df_COA_lu.to_excel('results.xlsx', index=False)\n"
   ]
  },
  {
   "cell_type": "code",
   "execution_count": null,
   "metadata": {},
   "outputs": [],
   "source": [
    "print(df_lu_sorted['R-squared'].mean())\n",
    "print(df_nlu_sorted['R-squared'].mean())"
   ]
  },
  {
   "cell_type": "code",
   "execution_count": 9,
   "metadata": {},
   "outputs": [],
   "source": [
    "def find_top_values(dataframe, column_name):\n",
    "    top_values_df = dataframe.nlargest(20, column_name)\n",
    "    return top_values_df\n",
    "\n",
    "df_nlu_10 = find_top_values(df_nlu_corr, 'R-squared')\n",
    "df_lu_10 = find_top_values(df_lu_corr, 'R-squared')"
   ]
  },
  {
   "cell_type": "code",
   "execution_count": 10,
   "metadata": {},
   "outputs": [],
   "source": [
    "def removes_duplicates(dataframe):\n",
    "    results = dataframe.reset_index(drop=True)\n",
    "    results = dataframe.drop(dataframe.index[1::2])\n",
    "\n",
    "    return results"
   ]
  },
  {
   "cell_type": "code",
   "execution_count": 11,
   "metadata": {},
   "outputs": [],
   "source": [
    "nlu_results = removes_duplicates(df_nlu_10)\n",
    "lu_results = removes_duplicates(df_lu_10)"
   ]
  },
  {
   "cell_type": "code",
   "execution_count": 12,
   "metadata": {},
   "outputs": [],
   "source": [
    "nlu_results.to_excel('results.xlsx', index=False)\n",
    "lu_results.to_excel('results.xlsx', index=False)"
   ]
  },
  {
   "cell_type": "code",
   "execution_count": null,
   "metadata": {},
   "outputs": [],
   "source": [
    "display(nlu_results)\n",
    "display(lu_results)"
   ]
  }
 ],
 "metadata": {
  "kernelspec": {
   "display_name": "base",
   "language": "python",
   "name": "python3"
  },
  "language_info": {
   "codemirror_mode": {
    "name": "ipython",
    "version": 3
   },
   "file_extension": ".py",
   "mimetype": "text/x-python",
   "name": "python",
   "nbconvert_exporter": "python",
   "pygments_lexer": "ipython3",
   "version": "3.11.3"
  },
  "orig_nbformat": 4
 },
 "nbformat": 4,
 "nbformat_minor": 2
}
