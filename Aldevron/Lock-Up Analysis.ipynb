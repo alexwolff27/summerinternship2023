{
 "cells": [
  {
   "cell_type": "code",
   "execution_count": 20,
   "id": "3e6e6bcf",
   "metadata": {},
   "outputs": [],
   "source": [
    "import numpy as np\n",
    "import pandas as pd\n",
    "import matplotlib.pyplot as plt\n",
    "import seaborn as sns\n",
    "from scipy import stats\n",
    "from scipy.stats import t\n",
    "from sklearn.preprocessing import StandardScaler\n",
    "from sklearn.decomposition import PCA\n",
    "sns.set()"
   ]
  },
  {
   "cell_type": "code",
   "execution_count": null,
   "id": "57075a3b",
   "metadata": {},
   "outputs": [],
   "source": [
    "df_nlu = pd.read_csv('non-lock_up.csv')\n",
    "df_lu = pd.read_csv('lock_up.csv')\n",
    "df_nlu.drop(columns=df_nlu.columns[99:], inplace=True)\n",
    "df_lu.drop(columns=df_lu.columns[99:], inplace=True)\n",
    "display(df_nlu)\n",
    "display(df_lu)"
   ]
  },
  {
   "cell_type": "markdown",
   "id": "e9732111",
   "metadata": {},
   "source": [
    "Calculating P_Value"
   ]
  },
  {
   "cell_type": "code",
   "execution_count": null,
   "id": "59d4aac4",
   "metadata": {},
   "outputs": [],
   "source": [
    "def calculate_p_values(dataframe1, dataframe2):\n",
    "    p_values = {}\n",
    "\n",
    "    # Combine the columns from both dataframes\n",
    "    all_columns = set(dataframe1.columns).union(dataframe2.columns)\n",
    "\n",
    "    for column in all_columns:\n",
    "        # Check if the column exists in both dataframes and contains numeric data\n",
    "        if column in dataframe1.columns and column in dataframe2.columns:\n",
    "            if pd.api.types.is_numeric_dtype(dataframe1[column]) and pd.api.types.is_numeric_dtype(dataframe2[column]):\n",
    "                # Drop NaN values from both dataframes for the current column\n",
    "                numeric_values1 = dataframe1[column].dropna()\n",
    "                numeric_values2 = dataframe2[column].dropna()\n",
    "\n",
    "                # Perform the t-test if there are enough numeric values in both dataframes\n",
    "                if len(numeric_values1) > 1 and len(numeric_values2) > 1:\n",
    "                    _, p_value = stats.ttest_ind(numeric_values1, numeric_values2, equal_var=False)\n",
    "                    p_values[column] = p_value\n",
    "\n",
    "    result_df = pd.DataFrame.from_dict(p_values, orient='index', columns=['p_value'])\n",
    "    result_df = result_df.T\n",
    "\n",
    "    return result_df\n",
    "\n",
    "p_values = calculate_p_values(df_nlu, df_lu)\n",
    "display(p_values)"
   ]
  },
  {
   "cell_type": "markdown",
   "id": "91bafe63",
   "metadata": {},
   "source": [
    "Sorting for Statistically Significant P_Value"
   ]
  },
  {
   "cell_type": "code",
   "execution_count": null,
   "id": "2652f7a8",
   "metadata": {},
   "outputs": [],
   "source": [
    "#Getting the statistically significant resutls\n",
    "sorted_p_values = pd.DataFrame()\n",
    "\n",
    "# Iterate through each column of the original DataFrame\n",
    "for column in p_values.columns:\n",
    "    # Check if all values in the column are less than 0.05\n",
    "    if (p_values[column] < 0.05).all():\n",
    "        # Add the column to the new DataFrame\n",
    "        sorted_p_values[column] = p_values[column]\n",
    "\n",
    "display(sorted_p_values)"
   ]
  },
  {
   "cell_type": "markdown",
   "id": "0efea830",
   "metadata": {},
   "source": [
    "Calculating Hedges_G Values"
   ]
  },
  {
   "cell_type": "code",
   "execution_count": null,
   "id": "06618b15",
   "metadata": {},
   "outputs": [],
   "source": [
    "def hedges_g(dataframe1, dataframe2):\n",
    "    hedges_g_values = {}\n",
    "\n",
    "    # Combine the columns from both dataframes\n",
    "    all_columns = set(dataframe1.columns).union(dataframe2.columns)\n",
    "\n",
    "    for column in all_columns:\n",
    "        # Check if the column exists in both dataframes and contains numeric data\n",
    "        if column in dataframe1.columns and column in dataframe2.columns:\n",
    "            if pd.api.types.is_numeric_dtype(dataframe1[column]) and pd.api.types.is_numeric_dtype(dataframe2[column]):\n",
    "                # Drop NaN values from both dataframes for the current column\n",
    "                numeric_values1 = dataframe1[column].dropna()\n",
    "                numeric_values2 = dataframe2[column].dropna()\n",
    "\n",
    "                # Perform the hedges-g if there are enough numeric values in both dataframes\n",
    "                if len(numeric_values1) > 1 and len(numeric_values2) > 1:\n",
    "                    n1 = len(numeric_values1)\n",
    "                    n2 = len(numeric_values2)\n",
    "                    s1 = np.std(numeric_values1, ddof=1)\n",
    "                    s2 = np.std(numeric_values2, ddof=1)\n",
    "\n",
    "                    pooled_sd = np.sqrt(((n1 - 1) * s1 ** 2 + (n2 - 1) * s2 ** 2) / (n1 + n2 - 2))\n",
    "                    dof = n1 + n2 - 2\n",
    "\n",
    "                    numerator = np.mean(numeric_values1) - np.mean(numeric_values2)\n",
    "                    denominator = pooled_sd * np.sqrt((1 / n1 + 1 / n2))\n",
    "\n",
    "                    g_value = abs(numerator / denominator)\n",
    "                    hedges_g_values[column] = g_value\n",
    "\n",
    "    result_df = pd.DataFrame.from_dict(hedges_g_values, orient='index', columns=['hedges_g'])\n",
    "    result_df = result_df.T\n",
    "\n",
    "    return result_df\n",
    "\n",
    "hedges_results = hedges_g(df_nlu, df_lu)\n",
    "\n",
    "display(hedges_results)"
   ]
  },
  {
   "cell_type": "markdown",
   "id": "305d6e4e",
   "metadata": {},
   "source": [
    "Sorting Hedges_G Values"
   ]
  },
  {
   "cell_type": "code",
   "execution_count": 11,
   "id": "4afaada0",
   "metadata": {},
   "outputs": [],
   "source": [
    "small_effect = []\n",
    "medium_effect = []\n",
    "large_effect = []\n",
    "\n",
    "# Loop through each column in hedges_results\n",
    "for column in hedges_results.columns:\n",
    "    # Filter for small effect size (absolute value less than 0.2)\n",
    "    if hedges_results[column].apply(lambda x: abs(x) < 0.2).all():\n",
    "        small_effect.append(column)\n",
    "    # Filter for medium effect size (absolute value between 0.2 and 0.8)\n",
    "    elif hedges_results[column].apply(lambda x: 0.2 <= abs(x) < 0.8).all():\n",
    "        medium_effect.append(column)\n",
    "    # Filter for large effect size (absolute value greater than or equal to 0.8)\n",
    "    else:\n",
    "        large_effect.append(column)"
   ]
  },
  {
   "cell_type": "code",
   "execution_count": null,
   "id": "0c769479",
   "metadata": {},
   "outputs": [],
   "source": [
    "input = {'Large Effect':large_effect, 'Medium Effect': medium_effect, 'Small Effect': small_effect}\n",
    "\n",
    "max_length = max(len(v) for v in input.values())\n",
    "\n",
    "# Fill in empty cells with NaN\n",
    "for key in input.keys():\n",
    "    input[key] = input[key] + [float('nan')] * (max_length - len(input[key]))\n",
    "\n",
    "hedges_g_results = pd.DataFrame(input)\n",
    "\n",
    "display(hedges_g_results)"
   ]
  }
 ],
 "metadata": {
  "kernelspec": {
   "display_name": "Python 3 (ipykernel)",
   "language": "python",
   "name": "python3"
  },
  "language_info": {
   "codemirror_mode": {
    "name": "ipython",
    "version": 3
   },
   "file_extension": ".py",
   "mimetype": "text/x-python",
   "name": "python",
   "nbconvert_exporter": "python",
   "pygments_lexer": "ipython3",
   "version": "3.11.3"
  }
 },
 "nbformat": 4,
 "nbformat_minor": 5
}
