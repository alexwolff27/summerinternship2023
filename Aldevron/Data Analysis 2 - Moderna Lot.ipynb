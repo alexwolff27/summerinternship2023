{
 "cells": [
  {
   "cell_type": "code",
   "execution_count": 80,
   "metadata": {},
   "outputs": [],
   "source": [
    "import numpy as np\n",
    "import pandas as pd\n",
    "import matplotlib.pyplot as plt\n",
    "import seaborn as sns\n",
    "from scipy import stats\n",
    "from scipy.stats import t\n",
    "from sklearn.preprocessing import StandardScaler\n",
    "from sklearn.decomposition import PCA\n",
    "from sklearn.decomposition import FactorAnalysis\n",
    "from scipy.stats import pearsonr\n",
    "import statsmodels.api as sm\n",
    "sns.set()"
   ]
  },
  {
   "cell_type": "code",
   "execution_count": 81,
   "metadata": {},
   "outputs": [],
   "source": [
    "df = pd.read_csv('Data (003).csv')\n",
    "\n",
    "#Formating a2_300\n",
    "df_2_300 = df[(df['Scale (L)'] == 300) & (df['Process'] == 2)]\n",
    "df_2_30 = df[(df['Scale (L)'] == 30) & (df['Process'] == 2)]\n",
    "a2_300 = pd.DataFrame({'Final g (Delivered)':df_2_300.iloc[:,-17], 'COA':df_2_300.iloc[:,-10]})\n",
    "a2_300.dropna(inplace=True)\n",
    "a2_300 = a2_300.apply(pd.to_numeric, errors='coerce')\n",
    "a2_300.reset_index(drop=True, inplace=True)\n",
    "\n",
    "#Formating a2_30\n",
    "a2_30 = pd.DataFrame({'Final g (Delivered)':df_2_30.iloc[:,-17], 'COA':df_2_30.iloc[:,-10]})\n",
    "a2_30.replace('', pd.NA, inplace=True)\n",
    "a2_30.drop([150,152], inplace=True)\n",
    "a2_30 = a2_30.apply(pd.to_numeric, errors='coerce')\n",
    "a2_30.reset_index(drop=True, inplace=True)\n",
    "a2_30.dropna(inplace=True)\n",
    "#a2_30.dropna(inplace=True)\n"
   ]
  },
  {
   "cell_type": "code",
   "execution_count": 95,
   "metadata": {},
   "outputs": [],
   "source": [
    "def bootstrap_resample(data_frame, num_bootstrap_samples):\n",
    "    # Initialize an empty array to store bootstrap samples\n",
    "    bootstrap_samples = np.empty((num_bootstrap_samples, data_frame.shape[1]))\n",
    "    \n",
    "    # Perform bootstrap resampling\n",
    "    for i in range(num_bootstrap_samples):\n",
    "        # Randomly sample with replacement from the data array\n",
    "        random_indices = np.random.choice(data_frame.index, size=data_frame.shape[0], replace=True)\n",
    "        bootstrap_sample = data_frame.loc[random_indices]\n",
    "        \n",
    "        # Compute some statistic on the bootstrap sample (e.g., mean, median, correlation, etc.)\n",
    "        # For example, to calculate the mean of each column in the bootstrap sample:\n",
    "        bootstrap_statistic = np.mean(bootstrap_sample, axis=0)\n",
    "        \n",
    "        # Store the statistic in the bootstrap_samples array\n",
    "        bootstrap_samples[i] = bootstrap_statistic\n",
    "    \n",
    "    return bootstrap_samples\n",
    "\n",
    "bootstrap_a2_300 = pd.DataFrame(bootstrap_resample(a2_300, 1000))\n",
    "bootstrap_a2_300.rename(columns={0: 'Final g (Delivered)', 1: 'COA'}, inplace=True)\n",
    "bootstrap_a2_30 = pd.DataFrame(bootstrap_resample(a2_30, 1000))\n",
    "bootstrap_a2_30.rename(columns={0: 'Final g (Delivered)', 1: 'COA '}, inplace=True)"
   ]
  },
  {
   "cell_type": "markdown",
   "metadata": {},
   "source": [
    "Obtaining Pearson's Correlation and P-Value"
   ]
  },
  {
   "cell_type": "code",
   "execution_count": null,
   "metadata": {},
   "outputs": [],
   "source": [
    "# Compute Pearson's correlation coefficient and p-value for 30 Liter \n",
    "corr_coefficient_30, p_value_30 = pearsonr(bootstrap_a2_30['Final g (Delivered)'], bootstrap_a2_30['COA '])\n",
    "\n",
    "# Print the results\n",
    "print(f\"Pearson's correlation coefficient for 30L: {corr_coefficient_30:.3f}\")\n",
    "print(f\"P-value: {p_value_30:.3f}\")"
   ]
  },
  {
   "cell_type": "code",
   "execution_count": null,
   "metadata": {},
   "outputs": [],
   "source": [
    "# Compute Pearson's correlation coefficient and p-value for 300 Liter \n",
    "corr_coefficient_300, p_value_300 = pearsonr(bootstrap_a2_300['Final g (Delivered)'], bootstrap_a2_300['COA '])\n",
    "\n",
    "# Print the results\n",
    "print(f\"Pearson's correlation coefficient for 300L: {corr_coefficient_300:.3f}\")\n",
    "print(f\"P-value: {p_value_300:.3f}\")"
   ]
  },
  {
   "cell_type": "markdown",
   "metadata": {},
   "source": [
    "Running a Simple Linear Regression"
   ]
  },
  {
   "cell_type": "code",
   "execution_count": 92,
   "metadata": {},
   "outputs": [],
   "source": [
    "def linear_reg(data_frame, x_column, y_column):\n",
    "    # Extract the two columns from the DataFrame\n",
    "    X = data_frame[x_column]\n",
    "    y = data_frame[y_column]\n",
    "\n",
    "    # Add a constant term to the predictor variable (X) to fit the intercept\n",
    "    X = sm.add_constant(X)\n",
    "\n",
    "    # Fit the linear regression model\n",
    "    model = sm.OLS(y, X).fit()\n",
    "\n",
    "    # Get the regression coefficients and other statistics\n",
    "    print(model.summary())\n",
    "\n",
    "    # Plot the scatter plot and the fitted regression line\n",
    "    plt.scatter(X[x_column], y, label='Data')\n",
    "    plt.plot(X[x_column], model.predict(X), color='red', label='Fitted Line')\n",
    "    plt.xlabel(x_column)\n",
    "    plt.ylabel(y_column)\n",
    "    plt.legend()\n",
    "    plt.title('Simple Linear Regression')\n",
    "    plt.show()\n"
   ]
  },
  {
   "cell_type": "markdown",
   "metadata": {},
   "source": [
    "300 L"
   ]
  },
  {
   "cell_type": "code",
   "execution_count": null,
   "metadata": {},
   "outputs": [],
   "source": [
    "linear_reg(bootstrap_a2_300, 'Final g (Delivered)', 'COA')"
   ]
  },
  {
   "cell_type": "markdown",
   "metadata": {},
   "source": [
    "30 L"
   ]
  },
  {
   "cell_type": "code",
   "execution_count": null,
   "metadata": {},
   "outputs": [],
   "source": [
    "linear_reg(bootstrap_a2_30, 'Final g (Delivered)', 'COA')"
   ]
  }
 ],
 "metadata": {
  "kernelspec": {
   "display_name": "base",
   "language": "python",
   "name": "python3"
  },
  "language_info": {
   "codemirror_mode": {
    "name": "ipython",
    "version": 3
   },
   "file_extension": ".py",
   "mimetype": "text/x-python",
   "name": "python",
   "nbconvert_exporter": "python",
   "pygments_lexer": "ipython3",
   "version": "3.11.3"
  },
  "orig_nbformat": 4
 },
 "nbformat": 4,
 "nbformat_minor": 2
}
