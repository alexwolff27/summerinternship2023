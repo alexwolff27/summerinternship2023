{
 "cells": [
  {
   "cell_type": "code",
   "execution_count": 115,
   "metadata": {},
   "outputs": [],
   "source": [
    "import numpy as np\n",
    "import pandas as pd\n",
    "import matplotlib.pyplot as plt\n",
    "import seaborn as sns\n",
    "from scipy import stats\n",
    "from scipy.stats import t, pearsonr, spearmanr, kendalltau\n",
    "from sklearn.preprocessing import StandardScaler\n",
    "from sklearn.decomposition import PCA, FactorAnalysis \n",
    "import statsmodels.api as sm\n",
    "from sklearn.linear_model import LinearRegression\n",
    "import math\n",
    "sns.set()\n",
    "\n",
    "df = pd.read_csv('Lot Data.csv')"
   ]
  },
  {
   "cell_type": "code",
   "execution_count": 116,
   "metadata": {},
   "outputs": [],
   "source": [
    "def sort_and_select(df):\n",
    "\n",
    "  # Sort the DataFrame by the specified criteria.\n",
    "  df = df.loc[(df['Process'] == 2) & (df['Scale (L)'] == 300) & (df['Construct'] != 'PL-022856')]\n",
    "\n",
    "  # Select the specified columns.\n",
    "  df = df[['Final g (Delivered)', 'COA gDNA %', 'Downstream Lot Number',  'Construct']]\n",
    "\n",
    "  df = df.dropna()\n",
    "\n",
    "  return df"
   ]
  },
  {
   "cell_type": "code",
   "execution_count": 117,
   "metadata": {},
   "outputs": [],
   "source": [
    "sorted = sort_and_select(df)\n",
    "sorted.head()\n",
    "excel_path = r'lot.csv'\n",
    "\n",
    "# Save the DataFrame to the specified path\n",
    "sorted.to_csv(excel_path, index=False)"
   ]
  },
  {
   "cell_type": "code",
   "execution_count": null,
   "metadata": {},
   "outputs": [],
   "source": [
    "display(sorted.head())"
   ]
  }
 ],
 "metadata": {
  "kernelspec": {
   "display_name": "Python 3",
   "language": "python",
   "name": "python3"
  },
  "language_info": {
   "codemirror_mode": {
    "name": "ipython",
    "version": 3
   },
   "file_extension": ".py",
   "mimetype": "text/x-python",
   "name": "python",
   "nbconvert_exporter": "python",
   "pygments_lexer": "ipython3",
   "version": "3.11.4"
  },
  "orig_nbformat": 4
 },
 "nbformat": 4,
 "nbformat_minor": 2
}
