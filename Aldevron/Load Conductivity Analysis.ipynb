{
 "cells": [
  {
   "cell_type": "code",
   "execution_count": 35,
   "metadata": {},
   "outputs": [],
   "source": [
    "import pandas as pd\n",
    "import numpy as np\n",
    "from scipy.stats import pearsonr, spearmanr, kendalltau\n",
    "from sklearn.linear_model import LinearRegression\n",
    "import matplotlib.pyplot as plt\n",
    "\n",
    "data = pd.read_excel('Moderna CTAC Load vs gDNA.xlsx', index_col='Downstream Lot Number')"
   ]
  },
  {
   "cell_type": "code",
   "execution_count": null,
   "metadata": {},
   "outputs": [],
   "source": [
    "display(data)"
   ]
  },
  {
   "cell_type": "code",
   "execution_count": 37,
   "metadata": {},
   "outputs": [],
   "source": [
    "def filter_data(data, column1, column2):\n",
    "    selected_data = data[[column1, column2]].dropna()\n",
    "    return selected_data"
   ]
  },
  {
   "cell_type": "code",
   "execution_count": 38,
   "metadata": {},
   "outputs": [],
   "source": [
    "cond_1 = filter_data(data, 'CTAC Final Load Conductivity1', 'COA %')\n",
    "cond_2 = filter_data(data, 'CTAC Final Load Conductivity 2', 'COA  %')\n",
    "cond_3 = filter_data(data, 'CTAC Final Load Conductivity 3', 'COA  %')\n",
    "cond_1_post = filter_data(data, 'CTAC Final Load Conductivity1', 'Post-CTAC ')\n",
    "cond_2_post = filter_data(data, 'CTAC Final Load Conductivity 2', 'Post-CTAC ')\n",
    "cond_3_post = filter_data(data, 'CTAC Final Load Conductivity 3', 'Post-CTAC ')"
   ]
  },
  {
   "cell_type": "code",
   "execution_count": 39,
   "metadata": {},
   "outputs": [],
   "source": [
    "def correlation_analysis(data, column1, column2):\n",
    "    # Select the two columns from the data\n",
    "    selected_data = data[[column1, column2]]\n",
    "    \n",
    "    # Calculate Pearson's correlation coefficient and p-value\n",
    "    pearson_corr, pearson_pvalue = pearsonr(selected_data[column1], selected_data[column2])\n",
    "    \n",
    "    # Calculate Spearman's rank correlation coefficient and p-value\n",
    "    spearman_corr, spearman_pvalue = spearmanr(selected_data[column1], selected_data[column2])\n",
    "    \n",
    "    # Calculate Kendall's Tau correlation coefficient and p-value\n",
    "    kendall_corr, kendall_pvalue = kendalltau(selected_data[column1], selected_data[column2])\n",
    "    \n",
    "    # Create scatter plot\n",
    "    plt.figure(figsize=(10, 6))\n",
    "    plt.scatter(selected_data[column1], selected_data[column2], alpha=0.7, label='Data')\n",
    "    \n",
    "    # Fit linear regression model\n",
    "    X = selected_data[[column1]]\n",
    "    y = selected_data[column2]\n",
    "    reg_model = LinearRegression()\n",
    "    reg_model.fit(X, y)\n",
    "    y_pred = reg_model.predict(X)\n",
    "    \n",
    "    # Plot linear regression line\n",
    "    plt.plot(X, y_pred, color='red', label='Regression Line')\n",
    "    \n",
    "    plt.title(f'Scatter Plot of {column1} vs {column2}')\n",
    "    plt.xlabel(column1)\n",
    "    plt.ylabel(column2)\n",
    "    plt.legend()\n",
    "    plt.grid(True)\n",
    "    plt.show()\n",
    "    \n",
    "    # Print correlation results\n",
    "    print(f\"Pearson's Correlation: {pearson_corr:.3f} (p-value: {pearson_pvalue:.3f})\")\n",
    "    print(f\"Spearman's Correlation: {spearman_corr:.3f} (p-value: {spearman_pvalue:.3f})\")\n",
    "    print(f\"Kendall's Tau Correlation: {kendall_corr:.3f} (p-value: {kendall_pvalue:.3f})\")"
   ]
  },
  {
   "cell_type": "code",
   "execution_count": null,
   "metadata": {},
   "outputs": [],
   "source": [
    "correlation_analysis(cond_1, 'CTAC Final Load Conductivity1', 'COAA %')\n",
    "correlation_analysis(cond_2, 'CTAC Final Load Conductivity 2', 'COA  %')\n",
    "correlation_analysis(cond_3, 'CTAC Final Load Conductivity 3', 'COA  %')"
   ]
  },
  {
   "cell_type": "code",
   "execution_count": null,
   "metadata": {},
   "outputs": [],
   "source": [
    "correlation_analysis(cond_1_post, 'CTAC Final Load Conductivity1', 'Post-CTAC ')\n",
    "correlation_analysis(cond_2_post, 'CTAC Final Load Conductivity 2', 'Post-CTAC ')\n",
    "correlation_analysis(cond_3_post, 'CTAC Final Load Conductivity 3', 'Post-CTAC ')"
   ]
  }
 ],
 "metadata": {
  "kernelspec": {
   "display_name": "Python 3",
   "language": "python",
   "name": "python3"
  },
  "language_info": {
   "codemirror_mode": {
    "name": "ipython",
    "version": 3
   },
   "file_extension": ".py",
   "mimetype": "text/x-python",
   "name": "python",
   "nbconvert_exporter": "python",
   "pygments_lexer": "ipython3",
   "version": "3.11.4"
  },
  "orig_nbformat": 4
 },
 "nbformat": 4,
 "nbformat_minor": 2
}
