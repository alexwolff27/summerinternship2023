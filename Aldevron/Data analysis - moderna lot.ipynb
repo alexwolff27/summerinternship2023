{
 "cells": [
  {
   "cell_type": "code",
   "execution_count": 71,
   "metadata": {},
   "outputs": [],
   "source": [
    "import numpy as np\n",
    "import pandas as pd\n",
    "import matplotlib.pyplot as plt\n",
    "import seaborn as sns\n",
    "from scipy import stats\n",
    "from scipy.stats import t\n",
    "from sklearn.preprocessing import StandardScaler\n",
    "from sklearn.decomposition import PCA\n",
    "from sklearn.decomposition import FactorAnalysis\n",
    "sns.set()\n",
    "\n",
    "df_300 = pd.read_csv('recovery', index_col='Construct')\n",
    "df_300.drop('Overall Total Recovery %', axis=1, inplace=True)\n",
    "df_30 = pd.read_csv('recovery_30', index_col='Construct')\n",
    "df_30.drop('Overall Total Recovery %', axis=1, inplace=True)"
   ]
  },
  {
   "cell_type": "code",
   "execution_count": 68,
   "metadata": {},
   "outputs": [],
   "source": [
    "def calculate_sequential_differences(df):\n",
    "    # Initialize an empty DataFrame to store the differences\n",
    "    differences_df = pd.DataFrame()\n",
    "\n",
    "    # Calculate differences for each column except the first one\n",
    "    for i in range(1, len(df.columns)):\n",
    "        differences_df[str(i) + ' Diff'] = df[df.columns[i]] - df[df.columns[i - 1]]\n",
    "\n",
    "    return differences_df\n",
    "\n",
    "# Call the function to calculate sequential differences\n",
    "diff_results = calculate_sequential_differences(df_300)"
   ]
  },
  {
   "cell_type": "code",
   "execution_count": null,
   "metadata": {},
   "outputs": [],
   "source": [
    "#Getting the Over/Under Values\n",
    "avg_df = pd.DataFrame({'Row Average': diff_results.mean(axis=1)})\n",
    "diff_results['Over/Under']=avg_df['Row Average']>avg_df['Row Average'].mean()\n",
    "diff_results['Over/Under'] = diff_results[\"Over/Under\"].replace({True: 'Over', False: 'Under'})\n",
    "display(diff_results.head())"
   ]
  },
  {
   "cell_type": "code",
   "execution_count": null,
   "metadata": {},
   "outputs": [],
   "source": [
    "x=diff_results.iloc[:,[0,1,2,3,4]]\n",
    "fact_2c=FactorAnalysis(n_components=2)\n",
    "X_factor = fact_2c.fit_transform(x)\n",
    "\n",
    "# Assuming you have the DataFrame 'diff_results' and the 'Over/Under' column exists\n",
    "thisdict = {'Over': '0', 'Under': '1'}\n",
    "z = np.array(diff_results['Over/Under'].map(thisdict), dtype=np.int8)\n",
    "colors = np.array(['yellow', 'purple'])\n",
    "\n",
    "# Create two separate scatter plots for 'Over' and 'Under'\n",
    "plt.scatter(X_factor[z == 0, 0], X_factor[z == 0, 1], c=colors[0], label='Over')\n",
    "plt.scatter(X_factor[z == 1, 0], X_factor[z == 1, 1], c=colors[1], label='Under')\n",
    "\n",
    "# Add a legend\n",
    "plt.legend()\n",
    "plt.show()"
   ]
  }
 ],
 "metadata": {
  "kernelspec": {
   "display_name": "base",
   "language": "python",
   "name": "python3"
  },
  "language_info": {
   "codemirror_mode": {
    "name": "ipython",
    "version": 3
   },
   "file_extension": ".py",
   "mimetype": "text/x-python",
   "name": "python",
   "nbconvert_exporter": "python",
   "pygments_lexer": "ipython3",
   "version": "3.11.3"
  },
  "orig_nbformat": 4
 },
 "nbformat": 4,
 "nbformat_minor": 2
}
