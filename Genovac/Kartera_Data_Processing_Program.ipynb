{
  "cells": [
    {
      "cell_type": "code",
      "execution_count": null,
      "metadata": {
        "id": "1ibEtUiG7s31"
      },
      "outputs": [],
      "source": [
        "file_name_kinetics = 'Rat_and_Rabbit_Processed_3rd_Crop_Final_27Feb23'\n",
        "file_name_lotnums = 'Lot_numbers'\n",
        "file_name_results = 'results'"
      ]
    },
    {
      "cell_type": "code",
      "execution_count": null,
      "metadata": {
        "colab": {
          "base_uri": "https://localhost:8080/"
        },
        "id": "rW37WxsC4Mhk",
        "outputId": "d5ecda80-eeb3-4860-bd59-d689315cebde"
      },
      "outputs": [
        {
          "name": "stdout",
          "output_type": "stream",
          "text": [
            "Mounted at /content/drive\n"
          ]
        }
      ],
      "source": [
        "import numpy as np\n",
        "import pandas as pd\n",
        "import matplotlib.pyplot as plt\n",
        "import seaborn as sns\n",
        "sns.set()\n",
        "\n",
        "from google.colab import drive\n",
        "drive.mount('/content/drive')"
      ]
    },
    {
      "cell_type": "code",
      "execution_count": null,
      "metadata": {
        "colab": {
          "base_uri": "https://localhost:8080/"
        },
        "id": "Oh8oVG4b9l3c",
        "outputId": "3d2903b2-405d-406d-8983-47596ed6971c"
      },
      "outputs": [
        {
          "name": "stderr",
          "output_type": "stream",
          "text": [
            "<ipython-input-3-4154858ceee8>:19: FutureWarning: DataFrame.set_axis 'inplace' keyword is deprecated and will be removed in a future version. Use `obj = obj.set_axis(..., copy=False)` instead\n",
            "  dataset.set_axis(['Name', 'K_a', 'K_d', 'K_D'], axis='columns', inplace=True)\n"
          ]
        }
      ],
      "source": [
        "#Importing the Excel File\n",
        "dataset_1 = f'/content/drive/MyDrive/Kinetics_Data_Processing/Input/{file_name_kinetics}.xlsx'\n",
        "dataset_2 = f'/content/drive/MyDrive/Kinetics_Data_Processing/Input/{file_name_lotnums}.xlsx'\n",
        "dataset = pd.read_excel(dataset_1, sheet_name='Kinetic Tables')\n",
        "lot_nums = pd.read_excel(dataset_2)\n",
        "\n",
        "#formating lot numbers\n",
        "lot_nums = lot_nums.iloc[:,[2,7]]\n",
        "lot_nums.columns = lot_nums.iloc[0]\n",
        "lot_nums = lot_nums[1:]\n",
        "for i in lot_nums['Lot Number']:\n",
        "  lot_nums['Lot Number']=lot_nums['Lot Number'].replace([i], i[-3:])\n",
        "lot_nums.set_index('Lot Number', inplace=True)\n",
        "\n",
        "\n",
        "#formating kinetics dataset\n",
        "dataset = dataset.iloc[:,[2,4,6,8]]\n",
        "dataset.columns = dataset.iloc[1]\n",
        "dataset.set_axis(['Name', 'K_a', 'K_d', 'K_D'], axis='columns', inplace=True)\n",
        "dataset = dataset[3:]\n",
        "dataset.dropna(inplace=True)\n",
        "for i in dataset.Name:\n",
        "  dataset.Name=dataset.Name.replace([i], i[-3:])\n",
        "dataset = pd.pivot_table(data=dataset, index='Name', aggfunc = 'mean')\n",
        "\n",
        "\n",
        "#Merging the Two Datasets\n",
        "results = pd.concat([dataset, lot_nums], axis=1)\n",
        "results.index.rename('Lot_Number', inplace=True)\n",
        "results['Clone ID'] = results['Clone ID'].fillna('N/A')\n",
        "results.dropna(inplace=True)\n",
        "results.set_index(['Clone ID', results.index], inplace=True)\n",
        "results=results.iloc[:,[1,2,0]]\n",
        "\n",
        "results.to_csv(f'/content/drive/MyDrive/Kinetics_Data_Processing/Output/{file_name_results}.csv', index=True)"
      ]
    }
  ],
  "metadata": {
    "colab": {
      "provenance": []
    },
    "kernelspec": {
      "display_name": "Python 3",
      "name": "python3"
    },
    "language_info": {
      "name": "python"
    }
  },
  "nbformat": 4,
  "nbformat_minor": 0
}
